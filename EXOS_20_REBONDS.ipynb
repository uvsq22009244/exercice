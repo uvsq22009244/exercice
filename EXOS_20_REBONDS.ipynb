{
 "metadata": {
  "language_info": {
   "codemirror_mode": {
    "name": "ipython",
    "version": 3
   },
   "file_extension": ".py",
   "mimetype": "text/x-python",
   "name": "python",
   "nbconvert_exporter": "python",
   "pygments_lexer": "ipython3",
   "version": "3.8.3-final"
  },
  "orig_nbformat": 2,
  "kernelspec": {
   "name": "python3",
   "display_name": "Python 3.8.3 64-bit (conda)",
   "metadata": {
    "interpreter": {
     "hash": "34df3f3246939b92afea9d5bfe512c193e05e5621e1ff1163e24d7fd40de8843"
    }
   }
  }
 },
 "nbformat": 4,
 "nbformat_minor": 2,
 "cells": [
  {
   "cell_type": "code",
   "execution_count": 2,
   "metadata": {},
   "outputs": [],
   "source": [
    "import tkinter as tk\n",
    "cpt_balle=1\n",
    "LARGEUR = 600\n",
    "HAUTEUR = 400\n",
    "\n",
    "def creer_balle():\n",
    "    \"\"\"Dessine un rond bleu et retourne son identifiant\n",
    "     et les valeurs de déplacements dans une liste\"\"\"\n",
    "    x, y = LARGEUR // 2, HAUTEUR // 2\n",
    "    dx, dy = 3, 5\n",
    "    rayon = 20\n",
    "    cercle = canvas.create_oval((x-rayon, y-rayon),\n",
    "                                (x+rayon, y+rayon),\n",
    "                                fill=\"blue\")\n",
    "    return [cercle, dx, dy]\n",
    "def mouvement():\n",
    "    \n",
    "    \"\"\"Déplace la balle et ré-appelle la fonction avec un compte-à-rebours\"\"\"\n",
    "    rebond()\n",
    "    canvas.move(balle[0], balle[1], balle[2])\n",
    "    \n",
    "def rebond():\n",
    "    global balle, cpt_balle\n",
    "    x0, y0, x1, y1 = canvas.coords(balle[0])\n",
    "    if x0 <= 0 or x1 >= 600:\n",
    "        balle[1] = -balle[1]\n",
    "    if y0 <= 0 or y1 >= 400:\n",
    "        balle[2] = -balle[2]\n",
    "    if cpt_balle<518:\n",
    "        cpt_balle+=1\n",
    "        canvas.move(balle[0], balle[1], balle[2])\n",
    "        canvas.after(20, mouvement)\n",
    "   \n",
    "\n",
    "racine = tk.Tk()\n",
    "canvas = tk.Canvas(racine, bg=\"black\", width=600, height=400)\n",
    "canvas1= tk.Canvas(racine, bg=\"white\", width=50, height=400)\n",
    "canvas2= tk.Canvas(racine, bg=\"blue\", width=50, height=400)\n",
    "canvas.grid(column=1)\n",
    "canvas2.grid(column=3, row=0)\n",
    "canvas1.grid(column=0, row=0)\n",
    "balle = creer_balle()\n",
    "mouvement()\n",
    "racine.mainloop()"
   ]
  },
  {
   "cell_type": "code",
   "execution_count": null,
   "metadata": {},
   "outputs": [],
   "source": []
  }
 ]
}